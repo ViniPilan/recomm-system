{
 "cells": [
  {
   "cell_type": "markdown",
   "id": "8ec1185d",
   "metadata": {},
   "source": [
    "# Sistema de recomendação de filmes baseado em época e popularidade (com aplicação)\n",
    "\n",
    "## Introdução\n",
    "Na era em que se vive hoje, com um mundo extremamente conectado via Internet, o grande volume de informações disponibilizadas na internet não é novidade para ninguém. Entretanto, mesmo que o usuário se acostume com isso, ele tem cada vez mais dificuldade em escolher por conta qual conteúdo consumir, visto que está sempre mergulhado nas mais diversas opções.\n",
    "\n",
    "Uma plataforma de filmes com os mais diferentes títulos disponíveis, uma loja com os mais diversos tipos de produtos à venda ou um site de informação com uma enorme quantidade de notícias dos mais diferentes assuntos, todos essses contextos **disponibilizam ao usuário muitas opções para acesso e consumo**. Porém, todo esse **mar de informação pode causar dúvida** para o indivíduo: *o que escolho para consumir?*\n",
    "\n",
    "E é nesse momento em que os sistemas de recomendação ganham cada vez mais força. Um sistema de recomendação tenta oferecer a determinado usuário algo que possivelmente possa interessá-lo a partir de um grande volume de informações sobre o respectivo usuário ou produto.\n",
    "\n",
    "[!img]()"
   ]
  },
  {
   "cell_type": "markdown",
   "id": "d2d22121",
   "metadata": {},
   "source": [
    "## Desenvolvimento do projeto\n",
    "\n",
    "### Dados utilizados\n",
    "\n",
    "O intuito deste projeto é sobre criar um sistema de recomendação de filmes a partir dos dados fornecidos. De modo geral, temos acesso a duas bases de dados que estão localizadas na pasta 'Dados':\n",
    "\n",
    "\n",
    "**Netflix_Dataset_Movie (filmes):**\n",
    "\n",
    "Coluna | Conteudo\n",
    "-------|---------\n",
    "Movie_ID | Id do filme\n",
    "Year | Ano de lançamento do respectivo filme\n",
    "Name |Nome completo (em inglês) do respectivo filme\n",
    "    \n",
    "    \n",
    "**Netflix_Dataset_Rating (avaliações):**\n",
    "\n",
    "Coluna | Conteudo\n",
    "-------|---------\n",
    "User_ID | Id do usuário que fez a avaliação\n",
    "Rating | Nota dada pelo usuário ao filme\n",
    "Movie_ID | Id do filme avaliado"
   ]
  },
  {
   "cell_type": "markdown",
   "id": "0c8b29b4",
   "metadata": {},
   "source": [
    "### Esquema de recomendação\n",
    "\n",
    "A partir dos dados disponíveis, será criado um **sistema de recomendação baseado em produto** em que o usuário escolhe um filme e o sistema retorna opções que o mesmo julga interessantes para este respectivo usuário em questão.\n",
    "\n",
    "O sistema criado recomenda filmes com base na época do filme e popularidade sua respectiva popularidade. Época e popularidade são características que foram criadas no notebook [sistema-recomendacao]() para cada filme com base na análise dos dados disponíveis. O notebook citado se encontra na pasta 'Notebooks'\n",
    "\n",
    "Vale ressaltar que dessa forma, o sistema recomenda filmes de mesma época que tiveram popularidade parecida. A recomendação com base no gênero do filme não foi possível de ser criada pois não se tem essa informação (gênero de cada filme) na base de dados."
   ]
  },
  {
   "cell_type": "markdown",
   "id": "375b613a",
   "metadata": {},
   "source": [
    "### Funcionamento da aplicação\n",
    "\n",
    "Para rodar a aplicação, "
   ]
  },
  {
   "cell_type": "markdown",
   "id": "5ee5f8f6",
   "metadata": {},
   "source": [
    "### Linguagem de programação e bibliotecas utilizadas\n",
    "\n",
    "A linguagem utilizada para fazer esse projeto foi o Python e as bibliotecas foram:\n",
    "- pandas\n",
    "- numpy\n",
    "- matplotlib\n",
    "- seaborn\n",
    "- pickle\n",
    "- sklearn\n",
    "- streamlit"
   ]
  },
  {
   "cell_type": "markdown",
   "id": "8c0f669f",
   "metadata": {},
   "source": [
    "## Sobre o autor do projeto\n",
    "\n"
   ]
  }
 ],
 "metadata": {
  "kernelspec": {
   "display_name": "Python 3",
   "language": "python",
   "name": "python3"
  },
  "language_info": {
   "codemirror_mode": {
    "name": "ipython",
    "version": 3
   },
   "file_extension": ".py",
   "mimetype": "text/x-python",
   "name": "python",
   "nbconvert_exporter": "python",
   "pygments_lexer": "ipython3",
   "version": "3.7.9"
  }
 },
 "nbformat": 4,
 "nbformat_minor": 5
}
