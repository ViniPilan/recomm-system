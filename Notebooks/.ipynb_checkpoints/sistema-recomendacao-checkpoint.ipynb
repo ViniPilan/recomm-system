{
 "cells": [
  {
   "cell_type": "markdown",
   "id": "613729d9",
   "metadata": {},
   "source": [
    "# Criando o sistema de recomendação"
   ]
  },
  {
   "cell_type": "markdown",
   "id": "bad89f70",
   "metadata": {},
   "source": [
    "Neste documento foi criado um sistema de recomendação baseado em produto para filmes, utilizando como base informações sobre a época e a popularidade do filme. Mais informações podem ser acessadas em [Sistema de recomendação de filmes baseado em época e popularidade]()."
   ]
  },
  {
   "cell_type": "markdown",
   "id": "383ccee6",
   "metadata": {},
   "source": [
    "## Índice\n",
    "\n",
    "1. **[Acessando a base de dados](#Acessando-a-base-de-dados)**\n",
    "\n",
    "\n",
    "2. **[Pré processamento](#Pré-processamento)**\n",
    "    - Analisando existência de dados nulos e tipos de dados incorretos\n",
    "    - Feature Engineering\n",
    "    - Salvando dataframe completo\n",
    "    \n",
    "    \n",
    "3. **[Processamento](#Processamento)**\n",
    "    - Modelagem\n",
    "    - Teste do modelo - Analisando recomendações\n",
    "    - Salvando modelo para implementação futura\n"
   ]
  },
  {
   "cell_type": "code",
   "execution_count": 26,
   "id": "282ae6d5",
   "metadata": {},
   "outputs": [],
   "source": [
    "#importando libs\n",
    "import pandas as pd\n",
    "import numpy as np\n",
    "import matplotlib.pyplot as plt\n",
    "import seaborn as sns\n",
    "import pickle as pk\n",
    "\n",
    "from sklearn.neighbors import NearestNeighbors\n",
    "\n",
    "\n",
    "# Definindo estilo dos gráficos\n",
    "sns.set_style('whitegrid')"
   ]
  },
  {
   "cell_type": "markdown",
   "id": "16fe5098",
   "metadata": {},
   "source": [
    "### Acessando a base de dados"
   ]
  },
  {
   "cell_type": "code",
   "execution_count": 2,
   "id": "4d449f95",
   "metadata": {},
   "outputs": [
    {
     "name": "stdout",
     "output_type": "stream",
     "text": [
      "filmes\n"
     ]
    },
    {
     "data": {
      "text/html": [
       "<div>\n",
       "<style scoped>\n",
       "    .dataframe tbody tr th:only-of-type {\n",
       "        vertical-align: middle;\n",
       "    }\n",
       "\n",
       "    .dataframe tbody tr th {\n",
       "        vertical-align: top;\n",
       "    }\n",
       "\n",
       "    .dataframe thead th {\n",
       "        text-align: right;\n",
       "    }\n",
       "</style>\n",
       "<table border=\"1\" class=\"dataframe\">\n",
       "  <thead>\n",
       "    <tr style=\"text-align: right;\">\n",
       "      <th></th>\n",
       "      <th>Movie_ID</th>\n",
       "      <th>Year</th>\n",
       "      <th>Name</th>\n",
       "    </tr>\n",
       "  </thead>\n",
       "  <tbody>\n",
       "    <tr>\n",
       "      <th>0</th>\n",
       "      <td>1</td>\n",
       "      <td>2003</td>\n",
       "      <td>Dinosaur Planet</td>\n",
       "    </tr>\n",
       "    <tr>\n",
       "      <th>1</th>\n",
       "      <td>2</td>\n",
       "      <td>2004</td>\n",
       "      <td>Isle of Man TT 2004 Review</td>\n",
       "    </tr>\n",
       "    <tr>\n",
       "      <th>2</th>\n",
       "      <td>3</td>\n",
       "      <td>1997</td>\n",
       "      <td>Character</td>\n",
       "    </tr>\n",
       "  </tbody>\n",
       "</table>\n",
       "</div>"
      ],
      "text/plain": [
       "   Movie_ID  Year                        Name\n",
       "0         1  2003             Dinosaur Planet\n",
       "1         2  2004  Isle of Man TT 2004 Review\n",
       "2         3  1997                   Character"
      ]
     },
     "metadata": {},
     "output_type": "display_data"
    },
    {
     "name": "stdout",
     "output_type": "stream",
     "text": [
      "tamanho:  (17770, 3)\n",
      "\n",
      "\n",
      "ratings\n"
     ]
    },
    {
     "data": {
      "text/html": [
       "<div>\n",
       "<style scoped>\n",
       "    .dataframe tbody tr th:only-of-type {\n",
       "        vertical-align: middle;\n",
       "    }\n",
       "\n",
       "    .dataframe tbody tr th {\n",
       "        vertical-align: top;\n",
       "    }\n",
       "\n",
       "    .dataframe thead th {\n",
       "        text-align: right;\n",
       "    }\n",
       "</style>\n",
       "<table border=\"1\" class=\"dataframe\">\n",
       "  <thead>\n",
       "    <tr style=\"text-align: right;\">\n",
       "      <th></th>\n",
       "      <th>User_ID</th>\n",
       "      <th>Rating</th>\n",
       "      <th>Movie_ID</th>\n",
       "    </tr>\n",
       "  </thead>\n",
       "  <tbody>\n",
       "    <tr>\n",
       "      <th>0</th>\n",
       "      <td>712664</td>\n",
       "      <td>5</td>\n",
       "      <td>3</td>\n",
       "    </tr>\n",
       "    <tr>\n",
       "      <th>1</th>\n",
       "      <td>1331154</td>\n",
       "      <td>4</td>\n",
       "      <td>3</td>\n",
       "    </tr>\n",
       "    <tr>\n",
       "      <th>2</th>\n",
       "      <td>2632461</td>\n",
       "      <td>3</td>\n",
       "      <td>3</td>\n",
       "    </tr>\n",
       "  </tbody>\n",
       "</table>\n",
       "</div>"
      ],
      "text/plain": [
       "   User_ID  Rating  Movie_ID\n",
       "0   712664       5         3\n",
       "1  1331154       4         3\n",
       "2  2632461       3         3"
      ]
     },
     "metadata": {},
     "output_type": "display_data"
    },
    {
     "name": "stdout",
     "output_type": "stream",
     "text": [
      "tamanho:  (17337458, 3)\n"
     ]
    }
   ],
   "source": [
    "filmes = pd.read_csv('../Dados/Netflix_Dataset_Movie.csv')\n",
    "# filmes = pd.read_sql('SELECT * FROM MOVIES', conn)\n",
    "print('filmes: ')\n",
    "display(filmes.head(3))\n",
    "print('tamanho: ', filmes.shape)\n",
    "\n",
    "ratings = pd.read_csv('../Dados/Netflix_Dataset_Rating.csv')\n",
    "# ratings = pd.read_sql('SELECT * FROM RATINGS', conn)\n",
    "print('\\n\\nratings: ')\n",
    "display(ratings.head(3))\n",
    "print('tamanho: ', ratings.shape)"
   ]
  },
  {
   "cell_type": "markdown",
   "id": "c06e347f",
   "metadata": {},
   "source": [
    "## Pré processamento"
   ]
  },
  {
   "cell_type": "markdown",
   "id": "617c1305",
   "metadata": {},
   "source": [
    "### Feature Engineering"
   ]
  },
  {
   "cell_type": "code",
   "execution_count": 3,
   "id": "614f54f7",
   "metadata": {},
   "outputs": [],
   "source": [
    "filmes.set_index('Movie_ID', inplace=True)"
   ]
  },
  {
   "cell_type": "markdown",
   "id": "6211029d",
   "metadata": {},
   "source": [
    "#### Definindo época dos filmes\n",
    "\n",
    "Qual época do cinema pertece o filme?"
   ]
  },
  {
   "cell_type": "code",
   "execution_count": 4,
   "id": "f154efb3",
   "metadata": {
    "scrolled": true
   },
   "outputs": [
    {
     "data": {
      "text/plain": [
       "count    17770.000000\n",
       "mean      1990.235566\n",
       "std         16.564501\n",
       "min       1915.000000\n",
       "25%       1985.000000\n",
       "50%       1997.000000\n",
       "75%       2002.000000\n",
       "max       2005.000000\n",
       "Name: Year, dtype: float64"
      ]
     },
     "execution_count": 4,
     "metadata": {},
     "output_type": "execute_result"
    }
   ],
   "source": [
    "filmes['Year'].describe()"
   ]
  },
  {
   "cell_type": "code",
   "execution_count": 5,
   "id": "8daea95a",
   "metadata": {},
   "outputs": [
    {
     "data": {
      "text/plain": [
       "<AxesSubplot:>"
      ]
     },
     "execution_count": 5,
     "metadata": {},
     "output_type": "execute_result"
    },
    {
     "data": {
      "image/png": "[encoded data removed]",
      "text/plain": [
       "<Figure size 432x288 with 1 Axes>"
      ]
     },
     "metadata": {},
     "output_type": "display_data"
    }
   ],
   "source": [
    "filmes['Year'].hist()"
   ]
  },
  {
   "cell_type": "code",
   "execution_count": 6,
   "id": "6c303d07",
   "metadata": {},
   "outputs": [],
   "source": [
    "def filmes_epoca(ano_filme):\n",
    "    if ano_filme < 1980: return 'mais_antigo'\n",
    "    elif ano_filme >= 1980 and ano_filme < 1990: return 'anos_80'\n",
    "    elif ano_filme >= 1990 and ano_filme < 2000: return 'anos_90'\n",
    "    else: return 'atual' #ano_filme >= 2000\n",
    "    "
   ]
  },
  {
   "cell_type": "code",
   "execution_count": 7,
   "id": "31f5c58e",
   "metadata": {
    "scrolled": true
   },
   "outputs": [
    {
     "data": {
      "text/html": [
       "<div>\n",
       "<style scoped>\n",
       "    .dataframe tbody tr th:only-of-type {\n",
       "        vertical-align: middle;\n",
       "    }\n",
       "\n",
       "    .dataframe tbody tr th {\n",
       "        vertical-align: top;\n",
       "    }\n",
       "\n",
       "    .dataframe thead th {\n",
       "        text-align: right;\n",
       "    }\n",
       "</style>\n",
       "<table border=\"1\" class=\"dataframe\">\n",
       "  <thead>\n",
       "    <tr style=\"text-align: right;\">\n",
       "      <th></th>\n",
       "      <th>Epoca</th>\n",
       "    </tr>\n",
       "  </thead>\n",
       "  <tbody>\n",
       "    <tr>\n",
       "      <th>atual</th>\n",
       "      <td>6947</td>\n",
       "    </tr>\n",
       "    <tr>\n",
       "      <th>anos_90</th>\n",
       "      <td>5173</td>\n",
       "    </tr>\n",
       "    <tr>\n",
       "      <th>mais_antigo</th>\n",
       "      <td>3514</td>\n",
       "    </tr>\n",
       "    <tr>\n",
       "      <th>anos_80</th>\n",
       "      <td>2136</td>\n",
       "    </tr>\n",
       "  </tbody>\n",
       "</table>\n",
       "</div>"
      ],
      "text/plain": [
       "             Epoca\n",
       "atual         6947\n",
       "anos_90       5173\n",
       "mais_antigo   3514\n",
       "anos_80       2136"
      ]
     },
     "execution_count": 7,
     "metadata": {},
     "output_type": "execute_result"
    }
   ],
   "source": [
    "filmes['Epoca'] = filmes['Year'].apply(filmes_epoca)\n",
    "filmes['Epoca'].value_counts().to_frame()"
   ]
  },
  {
   "cell_type": "code",
   "execution_count": 8,
   "id": "49a199ff",
   "metadata": {},
   "outputs": [
    {
     "data": {
      "text/html": [
       "<div>\n",
       "<style scoped>\n",
       "    .dataframe tbody tr th:only-of-type {\n",
       "        vertical-align: middle;\n",
       "    }\n",
       "\n",
       "    .dataframe tbody tr th {\n",
       "        vertical-align: top;\n",
       "    }\n",
       "\n",
       "    .dataframe thead th {\n",
       "        text-align: right;\n",
       "    }\n",
       "</style>\n",
       "<table border=\"1\" class=\"dataframe\">\n",
       "  <thead>\n",
       "    <tr style=\"text-align: right;\">\n",
       "      <th></th>\n",
       "      <th>anos_80</th>\n",
       "      <th>anos_90</th>\n",
       "      <th>atual</th>\n",
       "      <th>mais_antigo</th>\n",
       "    </tr>\n",
       "    <tr>\n",
       "      <th>Movie_ID</th>\n",
       "      <th></th>\n",
       "      <th></th>\n",
       "      <th></th>\n",
       "      <th></th>\n",
       "    </tr>\n",
       "  </thead>\n",
       "  <tbody>\n",
       "    <tr>\n",
       "      <th>1</th>\n",
       "      <td>0</td>\n",
       "      <td>0</td>\n",
       "      <td>1</td>\n",
       "      <td>0</td>\n",
       "    </tr>\n",
       "    <tr>\n",
       "      <th>2</th>\n",
       "      <td>0</td>\n",
       "      <td>0</td>\n",
       "      <td>1</td>\n",
       "      <td>0</td>\n",
       "    </tr>\n",
       "    <tr>\n",
       "      <th>3</th>\n",
       "      <td>0</td>\n",
       "      <td>1</td>\n",
       "      <td>0</td>\n",
       "      <td>0</td>\n",
       "    </tr>\n",
       "  </tbody>\n",
       "</table>\n",
       "</div>"
      ],
      "text/plain": [
       "          anos_80  anos_90  atual  mais_antigo\n",
       "Movie_ID                                      \n",
       "1               0        0      1            0\n",
       "2               0        0      1            0\n",
       "3               0        1      0            0"
      ]
     },
     "execution_count": 8,
     "metadata": {},
     "output_type": "execute_result"
    }
   ],
   "source": [
    "pd.get_dummies(filmes['Epoca']).head(3)"
   ]
  },
  {
   "cell_type": "code",
   "execution_count": 9,
   "id": "d9d23bcc",
   "metadata": {},
   "outputs": [
    {
     "data": {
      "text/html": [
       "<div>\n",
       "<style scoped>\n",
       "    .dataframe tbody tr th:only-of-type {\n",
       "        vertical-align: middle;\n",
       "    }\n",
       "\n",
       "    .dataframe tbody tr th {\n",
       "        vertical-align: top;\n",
       "    }\n",
       "\n",
       "    .dataframe thead th {\n",
       "        text-align: right;\n",
       "    }\n",
       "</style>\n",
       "<table border=\"1\" class=\"dataframe\">\n",
       "  <thead>\n",
       "    <tr style=\"text-align: right;\">\n",
       "      <th></th>\n",
       "      <th>Year</th>\n",
       "      <th>Name</th>\n",
       "      <th>anos_80</th>\n",
       "      <th>anos_90</th>\n",
       "      <th>mais_antigo</th>\n",
       "    </tr>\n",
       "    <tr>\n",
       "      <th>Movie_ID</th>\n",
       "      <th></th>\n",
       "      <th></th>\n",
       "      <th></th>\n",
       "      <th></th>\n",
       "      <th></th>\n",
       "    </tr>\n",
       "  </thead>\n",
       "  <tbody>\n",
       "    <tr>\n",
       "      <th>1</th>\n",
       "      <td>2003</td>\n",
       "      <td>Dinosaur Planet</td>\n",
       "      <td>0</td>\n",
       "      <td>0</td>\n",
       "      <td>0</td>\n",
       "    </tr>\n",
       "    <tr>\n",
       "      <th>2</th>\n",
       "      <td>2004</td>\n",
       "      <td>Isle of Man TT 2004 Review</td>\n",
       "      <td>0</td>\n",
       "      <td>0</td>\n",
       "      <td>0</td>\n",
       "    </tr>\n",
       "    <tr>\n",
       "      <th>3</th>\n",
       "      <td>1997</td>\n",
       "      <td>Character</td>\n",
       "      <td>0</td>\n",
       "      <td>1</td>\n",
       "      <td>0</td>\n",
       "    </tr>\n",
       "    <tr>\n",
       "      <th>4</th>\n",
       "      <td>1994</td>\n",
       "      <td>Paula Abdul's Get Up &amp; Dance</td>\n",
       "      <td>0</td>\n",
       "      <td>1</td>\n",
       "      <td>0</td>\n",
       "    </tr>\n",
       "    <tr>\n",
       "      <th>5</th>\n",
       "      <td>2004</td>\n",
       "      <td>The Rise and Fall of ECW</td>\n",
       "      <td>0</td>\n",
       "      <td>0</td>\n",
       "      <td>0</td>\n",
       "    </tr>\n",
       "  </tbody>\n",
       "</table>\n",
       "</div>"
      ],
      "text/plain": [
       "          Year                          Name  anos_80  anos_90  mais_antigo\n",
       "Movie_ID                                                                   \n",
       "1         2003               Dinosaur Planet        0        0            0\n",
       "2         2004    Isle of Man TT 2004 Review        0        0            0\n",
       "3         1997                     Character        0        1            0\n",
       "4         1994  Paula Abdul's Get Up & Dance        0        1            0\n",
       "5         2004      The Rise and Fall of ECW        0        0            0"
      ]
     },
     "execution_count": 9,
     "metadata": {},
     "output_type": "execute_result"
    }
   ],
   "source": [
    "filmes = pd.concat([filmes, pd.get_dummies(filmes['Epoca'])], axis=1).drop(['Epoca', 'atual'], axis=1)\n",
    "filmes.head()"
   ]
  },
  {
   "cell_type": "markdown",
   "id": "e22fe9dd",
   "metadata": {},
   "source": [
    "#### Esclarecendo número de avaliações recebidas de cada filme"
   ]
  },
  {
   "cell_type": "code",
   "execution_count": 10,
   "id": "b532c05d",
   "metadata": {},
   "outputs": [
    {
     "data": {
      "text/html": [
       "<div>\n",
       "<style scoped>\n",
       "    .dataframe tbody tr th:only-of-type {\n",
       "        vertical-align: middle;\n",
       "    }\n",
       "\n",
       "    .dataframe tbody tr th {\n",
       "        vertical-align: top;\n",
       "    }\n",
       "\n",
       "    .dataframe thead th {\n",
       "        text-align: right;\n",
       "    }\n",
       "</style>\n",
       "<table border=\"1\" class=\"dataframe\">\n",
       "  <thead>\n",
       "    <tr style=\"text-align: right;\">\n",
       "      <th></th>\n",
       "      <th>notas_recebidas</th>\n",
       "    </tr>\n",
       "    <tr>\n",
       "      <th>Movie_ID</th>\n",
       "      <th></th>\n",
       "    </tr>\n",
       "  </thead>\n",
       "  <tbody>\n",
       "    <tr>\n",
       "      <th>3</th>\n",
       "      <td>1524</td>\n",
       "    </tr>\n",
       "    <tr>\n",
       "      <th>8</th>\n",
       "      <td>9379</td>\n",
       "    </tr>\n",
       "    <tr>\n",
       "      <th>16</th>\n",
       "      <td>2517</td>\n",
       "    </tr>\n",
       "    <tr>\n",
       "      <th>17</th>\n",
       "      <td>4165</td>\n",
       "    </tr>\n",
       "    <tr>\n",
       "      <th>18</th>\n",
       "      <td>9419</td>\n",
       "    </tr>\n",
       "  </tbody>\n",
       "</table>\n",
       "</div>"
      ],
      "text/plain": [
       "          notas_recebidas\n",
       "Movie_ID                 \n",
       "3                    1524\n",
       "8                    9379\n",
       "16                   2517\n",
       "17                   4165\n",
       "18                   9419"
      ]
     },
     "metadata": {},
     "output_type": "display_data"
    }
   ],
   "source": [
    "num_notas = ratings.groupby('Movie_ID').count()['Rating'].to_frame().rename({'Rating':'notas_recebidas'}, axis=1)\n",
    "display(num_notas.head())\n",
    "\n",
    "filmes = filmes.join(num_notas, how='inner')"
   ]
  },
  {
   "cell_type": "markdown",
   "id": "595d5a76",
   "metadata": {},
   "source": [
    "#### Esclarecendo nota de avaliação média recebida de cada filme"
   ]
  },
  {
   "cell_type": "code",
   "execution_count": 11,
   "id": "11d26471",
   "metadata": {},
   "outputs": [
    {
     "data": {
      "text/html": [
       "<div>\n",
       "<style scoped>\n",
       "    .dataframe tbody tr th:only-of-type {\n",
       "        vertical-align: middle;\n",
       "    }\n",
       "\n",
       "    .dataframe tbody tr th {\n",
       "        vertical-align: top;\n",
       "    }\n",
       "\n",
       "    .dataframe thead th {\n",
       "        text-align: right;\n",
       "    }\n",
       "</style>\n",
       "<table border=\"1\" class=\"dataframe\">\n",
       "  <thead>\n",
       "    <tr style=\"text-align: right;\">\n",
       "      <th></th>\n",
       "      <th>nota_media</th>\n",
       "    </tr>\n",
       "    <tr>\n",
       "      <th>Movie_ID</th>\n",
       "      <th></th>\n",
       "    </tr>\n",
       "  </thead>\n",
       "  <tbody>\n",
       "    <tr>\n",
       "      <th>3</th>\n",
       "      <td>3.621391</td>\n",
       "    </tr>\n",
       "    <tr>\n",
       "      <th>8</th>\n",
       "      <td>3.136795</td>\n",
       "    </tr>\n",
       "    <tr>\n",
       "      <th>16</th>\n",
       "      <td>3.081843</td>\n",
       "    </tr>\n",
       "    <tr>\n",
       "      <th>17</th>\n",
       "      <td>2.909964</td>\n",
       "    </tr>\n",
       "    <tr>\n",
       "      <th>18</th>\n",
       "      <td>3.767597</td>\n",
       "    </tr>\n",
       "  </tbody>\n",
       "</table>\n",
       "</div>"
      ],
      "text/plain": [
       "          nota_media\n",
       "Movie_ID            \n",
       "3           3.621391\n",
       "8           3.136795\n",
       "16          3.081843\n",
       "17          2.909964\n",
       "18          3.767597"
      ]
     },
     "metadata": {},
     "output_type": "display_data"
    }
   ],
   "source": [
    "nota_media = ratings.groupby('Movie_ID').mean()['Rating'].to_frame().rename({'Rating':'nota_media'}, axis=1)\n",
    "display(nota_media.head())\n",
    "\n",
    "filmes = filmes.join(nota_media, how='inner')"
   ]
  },
  {
   "cell_type": "markdown",
   "id": "49404add",
   "metadata": {},
   "source": [
    "#### Definindo nível de popularidade para cada filme\n",
    "\n",
    "Vamos criar um nível de popularidade para cada filme através de um coeficiente de popularidade. Este coeficiente será uma média (pondereada com maior peso para nota média recebida) do número de avaliações recebidas e a nota média recebida de cada filme:"
   ]
  },
  {
   "cell_type": "code",
   "execution_count": 12,
   "id": "2232d437",
   "metadata": {},
   "outputs": [],
   "source": [
    "max_notas = filmes['notas_recebidas'].max()\n",
    "max_nota = filmes['nota_media'].max()\n",
    "\n",
    "filmes['coeficiente_popularidade'] = 0.4*(filmes['notas_recebidas']/max_notas) + 0.6*(filmes['nota_media'] / max_nota)"
   ]
  },
  {
   "cell_type": "code",
   "execution_count": 13,
   "id": "ea73d142",
   "metadata": {
    "scrolled": true
   },
   "outputs": [
    {
     "data": {
      "text/html": [
       "<div>\n",
       "<style scoped>\n",
       "    .dataframe tbody tr th:only-of-type {\n",
       "        vertical-align: middle;\n",
       "    }\n",
       "\n",
       "    .dataframe tbody tr th {\n",
       "        vertical-align: top;\n",
       "    }\n",
       "\n",
       "    .dataframe thead th {\n",
       "        text-align: right;\n",
       "    }\n",
       "</style>\n",
       "<table border=\"1\" class=\"dataframe\">\n",
       "  <thead>\n",
       "    <tr style=\"text-align: right;\">\n",
       "      <th></th>\n",
       "      <th>Year</th>\n",
       "      <th>Name</th>\n",
       "      <th>anos_80</th>\n",
       "      <th>anos_90</th>\n",
       "      <th>mais_antigo</th>\n",
       "      <th>notas_recebidas</th>\n",
       "      <th>nota_media</th>\n",
       "      <th>coeficiente_popularidade</th>\n",
       "    </tr>\n",
       "    <tr>\n",
       "      <th>Movie_ID</th>\n",
       "      <th></th>\n",
       "      <th></th>\n",
       "      <th></th>\n",
       "      <th></th>\n",
       "      <th></th>\n",
       "      <th></th>\n",
       "      <th></th>\n",
       "      <th></th>\n",
       "    </tr>\n",
       "  </thead>\n",
       "  <tbody>\n",
       "    <tr>\n",
       "      <th>1905</th>\n",
       "      <td>2003</td>\n",
       "      <td>Pirates of the Caribbean: The Curse of the Bla...</td>\n",
       "      <td>0</td>\n",
       "      <td>0</td>\n",
       "      <td>0</td>\n",
       "      <td>117075</td>\n",
       "      <td>4.146334</td>\n",
       "      <td>0.933241</td>\n",
       "    </tr>\n",
       "    <tr>\n",
       "      <th>2452</th>\n",
       "      <td>2001</td>\n",
       "      <td>Lord of the Rings: The Fellowship of the Ring</td>\n",
       "      <td>0</td>\n",
       "      <td>0</td>\n",
       "      <td>0</td>\n",
       "      <td>102721</td>\n",
       "      <td>4.431489</td>\n",
       "      <td>0.920872</td>\n",
       "    </tr>\n",
       "    <tr>\n",
       "      <th>4306</th>\n",
       "      <td>1999</td>\n",
       "      <td>The Sixth Sense</td>\n",
       "      <td>0</td>\n",
       "      <td>1</td>\n",
       "      <td>0</td>\n",
       "      <td>102376</td>\n",
       "      <td>4.311469</td>\n",
       "      <td>0.904258</td>\n",
       "    </tr>\n",
       "    <tr>\n",
       "      <th>3962</th>\n",
       "      <td>2003</td>\n",
       "      <td>Finding Nemo (Widescreen)</td>\n",
       "      <td>0</td>\n",
       "      <td>0</td>\n",
       "      <td>0</td>\n",
       "      <td>94235</td>\n",
       "      <td>4.395904</td>\n",
       "      <td>0.887302</td>\n",
       "    </tr>\n",
       "    <tr>\n",
       "      <th>2862</th>\n",
       "      <td>1991</td>\n",
       "      <td>The Silence of the Lambs</td>\n",
       "      <td>0</td>\n",
       "      <td>1</td>\n",
       "      <td>0</td>\n",
       "      <td>95053</td>\n",
       "      <td>4.303809</td>\n",
       "      <td>0.878253</td>\n",
       "    </tr>\n",
       "  </tbody>\n",
       "</table>\n",
       "</div>"
      ],
      "text/plain": [
       "          Year                                               Name  anos_80  \\\n",
       "Movie_ID                                                                     \n",
       "1905      2003  Pirates of the Caribbean: The Curse of the Bla...        0   \n",
       "2452      2001      Lord of the Rings: The Fellowship of the Ring        0   \n",
       "4306      1999                                    The Sixth Sense        0   \n",
       "3962      2003                          Finding Nemo (Widescreen)        0   \n",
       "2862      1991                           The Silence of the Lambs        0   \n",
       "\n",
       "          anos_90  mais_antigo  notas_recebidas  nota_media  \\\n",
       "Movie_ID                                                      \n",
       "1905            0            0           117075    4.146334   \n",
       "2452            0            0           102721    4.431489   \n",
       "4306            1            0           102376    4.311469   \n",
       "3962            0            0            94235    4.395904   \n",
       "2862            1            0            95053    4.303809   \n",
       "\n",
       "          coeficiente_popularidade  \n",
       "Movie_ID                            \n",
       "1905                      0.933241  \n",
       "2452                      0.920872  \n",
       "4306                      0.904258  \n",
       "3962                      0.887302  \n",
       "2862                      0.878253  "
      ]
     },
     "execution_count": 13,
     "metadata": {},
     "output_type": "execute_result"
    }
   ],
   "source": [
    "# Top 05 Filmes mais populares\n",
    "filmes.sort_values(ascending=False, by='coeficiente_popularidade').head()"
   ]
  },
  {
   "cell_type": "markdown",
   "id": "8cc83e7e",
   "metadata": {},
   "source": [
    "### Analisando existência de dados nulos e tipos de dados incorretos"
   ]
  },
  {
   "cell_type": "code",
   "execution_count": 14,
   "id": "b7d7317f",
   "metadata": {},
   "outputs": [
    {
     "name": "stdout",
     "output_type": "stream",
     "text": [
      "<class 'pandas.core.frame.DataFrame'>\n",
      "Int64Index: 1350 entries, 3 to 4496\n",
      "Data columns (total 8 columns):\n",
      " #   Column                    Non-Null Count  Dtype  \n",
      "---  ------                    --------------  -----  \n",
      " 0   Year                      1350 non-null   int64  \n",
      " 1   Name                      1350 non-null   object \n",
      " 2   anos_80                   1350 non-null   uint8  \n",
      " 3   anos_90                   1350 non-null   uint8  \n",
      " 4   mais_antigo               1350 non-null   uint8  \n",
      " 5   notas_recebidas           1350 non-null   int64  \n",
      " 6   nota_media                1350 non-null   float64\n",
      " 7   coeficiente_popularidade  1350 non-null   float64\n",
      "dtypes: float64(2), int64(2), object(1), uint8(3)\n",
      "memory usage: 99.5+ KB\n"
     ]
    }
   ],
   "source": [
    "filmes.info()"
   ]
  },
  {
   "cell_type": "markdown",
   "id": "eccf621e",
   "metadata": {},
   "source": [
    "### Salvando dataframe completo"
   ]
  },
  {
   "cell_type": "code",
   "execution_count": 15,
   "id": "35b3a2e7",
   "metadata": {},
   "outputs": [
    {
     "data": {
      "text/html": [
       "<div>\n",
       "<style scoped>\n",
       "    .dataframe tbody tr th:only-of-type {\n",
       "        vertical-align: middle;\n",
       "    }\n",
       "\n",
       "    .dataframe tbody tr th {\n",
       "        vertical-align: top;\n",
       "    }\n",
       "\n",
       "    .dataframe thead th {\n",
       "        text-align: right;\n",
       "    }\n",
       "</style>\n",
       "<table border=\"1\" class=\"dataframe\">\n",
       "  <thead>\n",
       "    <tr style=\"text-align: right;\">\n",
       "      <th></th>\n",
       "      <th>Movie_ID</th>\n",
       "      <th>Year</th>\n",
       "      <th>Name</th>\n",
       "      <th>anos_80</th>\n",
       "      <th>anos_90</th>\n",
       "      <th>mais_antigo</th>\n",
       "      <th>notas_recebidas</th>\n",
       "      <th>nota_media</th>\n",
       "      <th>coeficiente_popularidade</th>\n",
       "    </tr>\n",
       "  </thead>\n",
       "  <tbody>\n",
       "    <tr>\n",
       "      <th>0</th>\n",
       "      <td>3</td>\n",
       "      <td>1997</td>\n",
       "      <td>Character</td>\n",
       "      <td>0</td>\n",
       "      <td>1</td>\n",
       "      <td>0</td>\n",
       "      <td>1524</td>\n",
       "      <td>3.621391</td>\n",
       "      <td>0.470938</td>\n",
       "    </tr>\n",
       "    <tr>\n",
       "      <th>1</th>\n",
       "      <td>8</td>\n",
       "      <td>2004</td>\n",
       "      <td>What the #$*! Do We Know!?</td>\n",
       "      <td>0</td>\n",
       "      <td>0</td>\n",
       "      <td>0</td>\n",
       "      <td>9379</td>\n",
       "      <td>3.136795</td>\n",
       "      <td>0.435453</td>\n",
       "    </tr>\n",
       "    <tr>\n",
       "      <th>2</th>\n",
       "      <td>16</td>\n",
       "      <td>1996</td>\n",
       "      <td>Screamers</td>\n",
       "      <td>0</td>\n",
       "      <td>1</td>\n",
       "      <td>0</td>\n",
       "      <td>2517</td>\n",
       "      <td>3.081843</td>\n",
       "      <td>0.404941</td>\n",
       "    </tr>\n",
       "    <tr>\n",
       "      <th>3</th>\n",
       "      <td>17</td>\n",
       "      <td>2005</td>\n",
       "      <td>7 Seconds</td>\n",
       "      <td>0</td>\n",
       "      <td>0</td>\n",
       "      <td>0</td>\n",
       "      <td>4165</td>\n",
       "      <td>2.909964</td>\n",
       "      <td>0.388467</td>\n",
       "    </tr>\n",
       "    <tr>\n",
       "      <th>4</th>\n",
       "      <td>18</td>\n",
       "      <td>1994</td>\n",
       "      <td>Immortal Beloved</td>\n",
       "      <td>0</td>\n",
       "      <td>1</td>\n",
       "      <td>0</td>\n",
       "      <td>9419</td>\n",
       "      <td>3.767597</td>\n",
       "      <td>0.516715</td>\n",
       "    </tr>\n",
       "  </tbody>\n",
       "</table>\n",
       "</div>"
      ],
      "text/plain": [
       "   Movie_ID  Year                        Name  anos_80  anos_90  mais_antigo  \\\n",
       "0         3  1997                   Character        0        1            0   \n",
       "1         8  2004  What the #$*! Do We Know!?        0        0            0   \n",
       "2        16  1996                   Screamers        0        1            0   \n",
       "3        17  2005                   7 Seconds        0        0            0   \n",
       "4        18  1994            Immortal Beloved        0        1            0   \n",
       "\n",
       "   notas_recebidas  nota_media  coeficiente_popularidade  \n",
       "0             1524    3.621391                  0.470938  \n",
       "1             9379    3.136795                  0.435453  \n",
       "2             2517    3.081843                  0.404941  \n",
       "3             4165    2.909964                  0.388467  \n",
       "4             9419    3.767597                  0.516715  "
      ]
     },
     "execution_count": 15,
     "metadata": {},
     "output_type": "execute_result"
    }
   ],
   "source": [
    "filmes.to_csv('../Dados/filmes_completo.csv')\n",
    "filmes.reset_index(inplace=True)\n",
    "filmes.head()"
   ]
  },
  {
   "cell_type": "markdown",
   "id": "5ea31637",
   "metadata": {},
   "source": [
    "## Processamento"
   ]
  },
  {
   "cell_type": "markdown",
   "id": "5b36fdde",
   "metadata": {},
   "source": [
    "### Modelagem"
   ]
  },
  {
   "cell_type": "markdown",
   "id": "f9f92e66",
   "metadata": {},
   "source": [
    "#### Definindo a estrutura dos dados que serão utilizados para treinamento do modelo\n",
    "\n",
    "Vamos criar um sistema de recomendação que recomende filmes semelhantes nos quesitos \"época do filme\" e \"popularidade\"."
   ]
  },
  {
   "cell_type": "code",
   "execution_count": 16,
   "id": "6b8316f5",
   "metadata": {},
   "outputs": [
    {
     "data": {
      "text/html": [
       "<div>\n",
       "<style scoped>\n",
       "    .dataframe tbody tr th:only-of-type {\n",
       "        vertical-align: middle;\n",
       "    }\n",
       "\n",
       "    .dataframe tbody tr th {\n",
       "        vertical-align: top;\n",
       "    }\n",
       "\n",
       "    .dataframe thead th {\n",
       "        text-align: right;\n",
       "    }\n",
       "</style>\n",
       "<table border=\"1\" class=\"dataframe\">\n",
       "  <thead>\n",
       "    <tr style=\"text-align: right;\">\n",
       "      <th></th>\n",
       "      <th>mais_antigo</th>\n",
       "      <th>anos_80</th>\n",
       "      <th>anos_90</th>\n",
       "      <th>coeficiente_popularidade</th>\n",
       "    </tr>\n",
       "  </thead>\n",
       "  <tbody>\n",
       "    <tr>\n",
       "      <th>0</th>\n",
       "      <td>0</td>\n",
       "      <td>0</td>\n",
       "      <td>1</td>\n",
       "      <td>0.470938</td>\n",
       "    </tr>\n",
       "    <tr>\n",
       "      <th>1</th>\n",
       "      <td>0</td>\n",
       "      <td>0</td>\n",
       "      <td>0</td>\n",
       "      <td>0.435453</td>\n",
       "    </tr>\n",
       "    <tr>\n",
       "      <th>2</th>\n",
       "      <td>0</td>\n",
       "      <td>0</td>\n",
       "      <td>1</td>\n",
       "      <td>0.404941</td>\n",
       "    </tr>\n",
       "    <tr>\n",
       "      <th>3</th>\n",
       "      <td>0</td>\n",
       "      <td>0</td>\n",
       "      <td>0</td>\n",
       "      <td>0.388467</td>\n",
       "    </tr>\n",
       "    <tr>\n",
       "      <th>4</th>\n",
       "      <td>0</td>\n",
       "      <td>0</td>\n",
       "      <td>1</td>\n",
       "      <td>0.516715</td>\n",
       "    </tr>\n",
       "  </tbody>\n",
       "</table>\n",
       "</div>"
      ],
      "text/plain": [
       "   mais_antigo  anos_80  anos_90  coeficiente_popularidade\n",
       "0            0        0        1                  0.470938\n",
       "1            0        0        0                  0.435453\n",
       "2            0        0        1                  0.404941\n",
       "3            0        0        0                  0.388467\n",
       "4            0        0        1                  0.516715"
      ]
     },
     "execution_count": 16,
     "metadata": {},
     "output_type": "execute_result"
    }
   ],
   "source": [
    "data = filmes[['mais_antigo', 'anos_80', 'anos_90', 'coeficiente_popularidade']].copy()\n",
    "data.head()"
   ]
  },
  {
   "cell_type": "markdown",
   "id": "687c1823",
   "metadata": {},
   "source": [
    "#### Treinamento do modelo"
   ]
  },
  {
   "cell_type": "code",
   "execution_count": 17,
   "id": "ecb1fce2",
   "metadata": {},
   "outputs": [
    {
     "data": {
      "text/plain": [
       "NearestNeighbors(algorithm='brute')"
      ]
     },
     "execution_count": 17,
     "metadata": {},
     "output_type": "execute_result"
    }
   ],
   "source": [
    "from sklearn.neighbors import NearestNeighbors\n",
    "\n",
    "modelo = NearestNeighbors(algorithm='brute')\n",
    "modelo.fit(data)"
   ]
  },
  {
   "cell_type": "markdown",
   "id": "1f3b9c53",
   "metadata": {},
   "source": [
    "### Teste do modelo - Analisando recomendações"
   ]
  },
  {
   "cell_type": "code",
   "execution_count": 20,
   "id": "14db57c8",
   "metadata": {},
   "outputs": [
    {
     "name": "stdout",
     "output_type": "stream",
     "text": [
      "['Character', 'What the #$*! Do We Know!?', 'Screamers', '7 Seconds', 'Immortal Beloved', 'Never Die Alone', 'Lilo and Stitch', \"Something's Gotta Give\", \"ABC Primetime: Mel Gibson's The Passion of the Christ\", 'Aqua Teen Hunger Force: Vol. 1', 'Spitfire Grill', 'The Love Letter', 'Rudolph the Red-Nosed Reindeer', 'The Bad and the Beautiful', 'Justice League', 'The Weather Underground', 'Jade', 'Carandiru', 'Richard III', 'Dragonheart', 'Invader Zim', 'I Love Lucy: Season 2', 'Congo', 'Jingle All the Way', 'The Killing', 'Silkwood', 'The Powerpuff Girls Movie', 'Mostly Martha', 'The Great Race', 'Spartan', 'Scandal', 'Duplex (Widescreen)', 'Rambo: First Blood Part II', 'Cube 2: Hypercube', 'Fatal Beauty', 'Viva La Bam: Season 1', 'Star Trek: Voyager: Season 1', 'The Game', 'Sweet November', 'A Little Princess', 'Husbands and Wives', 'Richard Pryor: Live on the Sunset Strip', 'Fame', 'The Chorus', 'Funny Face', \"The Devil's Brigade\", 'Reservoir Dogs', 'Regular Guys', 'Scratch', 'The Last Shot', 'Missing in Action 2: The Beginning / Missing in Action 3: Braddock', 'Death to Smoochy', 'Dead Birds', 'Airplane II: The Sequel', 'X2: X-Men United', 'Taking Lives', 'The Deer Hunter', 'Home Movie', 'The Three Stooges: Sing a Song of Six Pants', 'Star Trek: Deep Space Nine: Season 5', 'Dinner Rush', \"That '70s Show: Season 1\", 'Impostor', \"Chappelle's Show: Season 1\", 'The Cookout', 'Gross Anatomy', 'Led Zeppelin: The Song Remains the Same', 'Winnie the Pooh: Springtime with Roo', 'Woman of the Year', 'North by Northwest', 'Neon Genesis Evangelion: The End of Evangelion', \"Michael Moore's The Awful Truth: Season 2\", 'Stuart Little 2', 'A Night at the Opera', 'The Hunchback of Notre Dame II', 'Ghost Dog: The Way of the Samurai', \"Charlotte's Web\", 'Herbie Rides Again', 'The Final Countdown', 'Parenthood', 'Sex and the City: Season 4', 'Taxi', 'Evelyn', 'The Legend', 'If These Walls Could Talk', \"The Devil's Own\", 'The Avengers', 'Harold and Kumar Go to White Castle', 'Ace Ventura: When Nature Calls', 'The Hebrew Hammer', \"Bridget Jones's Diary\", 'King of the Hill: Season 1', 'Jack', 'Ed Wood', 'High Fidelity', 'Pay It Forward', 'Futurama: Monster Robot Maniac Fun Collection', 'Dogma', 'Wild Things', 'Chasing Amy', 'The Pacifier', 'Star 80', 'Tremors 4: The Legend Begins', 'The Taming of the Shrew', 'Star Trek: Voyager: Season 5', 'The Last Temptation of Christ', 'Life or Something Like It', 'Look at Me', 'House of Sand and Fog', 'The Onion Field', 'Absolutely Fabulous: Series 5', 'Lies', 'The Phantom of the Opera: Special Edition', 'The Flintstones in Viva Rock Vegas', 'Spun', 'The Trouble with Angels', 'Nine Dead Gay Guys', 'Party Monster', 'Out for Justice', 'The Santa Clause 2', 'The Fan', 'The Replacement Killers', 'Captain Blood', 'In the Realm of the Senses', 'Rio Lobo', 'Halloween 5: The Revenge of Michael Myers', 'Wings of Desire', 'Hostage', 'Nightbreed', 'Igby Goes Down', 'Elephant', 'The Deal', 'Saturday Night Live: The Best of Dana Carvey', 'The Unsinkable Molly Brown', 'Happiness', 'The 10th Kingdom', \"Recess: School's Out\", 'Graveyard Shift', 'Millennium Actress', 'Les Miserables in Concert', 'Untamed Heart', 'Girls Just Want to Have Fun', 'Bean: The Movie', 'Mississippi Burning', 'Rabbit-Proof Fence', 'Michael Collins', 'Scorched', 'Xena: Warrior Princess: Season 3', 'Emma (Miniseries)', 'Kill Bill: Vol. 2', 'Basquiat', 'The Twilight Zone: Vol. 12', 'The Matrix: Revolutions', 'City Lights', 'Princess Mononoke', 'Legend of 1900', \"VeggieTales Classics: Where's God When I'm Scared?\", 'George Carlin: Personal Favorites', 'Frida', 'Rush Hour 2', 'Journey to the Center of the Earth', 'His Secret Life', 'Return to Paradise', \"Monty Python's The Meaning of Life: Special Edition\", 'Under Suspicion', 'Three Days of the Condor', 'The Twilight Zone: Vol. 27', 'A Thousand Acres', 'Monsoon Wedding', 'Two Can Play That Game', 'The Prime of Miss Jean Brodie', 'Mumford', \"The Hitchhiker's Guide to the Galaxy\", 'Drop Dead Fred', 'With a Friend Like Harry', 'The Alamo', 'Hudson Hawk', 'First Knight', 'The Santa Clause', 'Solaris', 'High and Low', 'Jimmy Neutron: Boy Genius', 'Predator 2', 'The In-Laws', 'American Beauty', 'Highlander: Season 4', 'The Twilight Zone: Vol. 36', 'The Autobiography of Miss Jane Pittman', 'THX 1138: Special Edition', 'Jo Jo Dancer', 'My Family', 'Shanghai Triad', 'Blue Planet: IMAX', 'Sea of Love', \"What's Up\", 'Speed', 'An Ideal Husband', 'Armageddon', 'Firestarter', 'Unleashed', 'Stir Crazy', 'The Last Dragon', 'Buying the Cow', 'Dear Frankie', 'Matewan', \"Marvin's Room\", 'Highlander: Season 5', 'Robin Hood: Prince of Thieves', 'The Last House on the Left', 'Saving Grace', 'Who is Cletis Tout?', 'Rob Roy', 'Saturday Night Live: The Best of Will Ferrell 2', 'He Loves Me', 'He Said', 'Hellbound: Hellraiser II', 'Mafia!', 'In the Mood for Love', 'Better Than Sex', 'Police Academy 3: Back in Training', 'The Mighty', 'Bedazzled', 'One True Thing', 'The Hand that Rocks the Cradle', 'The Quest', 'Last Man Standing', \"Todd McFarlane's Spawn\", 'Major League', 'The Return', 'The Perfect Storm', 'Dolores Claiborne', 'Testosterone', 'Roger & Me', 'The Wire: Season 1', 'Curly Sue', 'Woman Thou Art Loosed', 'Bagdad Cafe', 'Mr. Magoo', '11:14', 'Dead Ringers', 'Indochine', 'Domestic Disturbance', 'I Can Do Bad All By Myself', 'Ernest Goes to Jail', 'The Librarian: Quest for the Spear', 'Halloween: H2O', 'Star Trek: The Next Generation: Season 7', 'The Lonely Guy', 'Mean Girls', 'Fifteen Minutes', \"Pooh's Heffalump Movie\", 'O Fantasma', 'End of the Century: The Story of the Ramones', 'The Poseidon Adventure', \"Foyle's War: Set 2\", 'Clerks', 'Boyz N the Hood', 'Jaws', 'The Mouse That Roared', 'Dead Man on Campus', 'Left Behind II: Tribulation Force', 'The Lawnmower Man', 'My Bodyguard', \"Logan's Run\", 'The Faculty', 'Star Trek: Enterprise: Season 1', 'Bill Cosby: Himself', 'Serial Mom', 'Mannequin', 'Tupac: Resurrection', 'White Squall', 'The Lady Eve', 'Mansfield Park', 'Enduring Love', 'Stoked: The Rise and Fall of Gator', 'Back to the Future Part III', 'Creepshow', 'Tuck Everlasting', 'Seven Samurai', 'Deep Cover', 'Ray', 'Reno 911: Season 2', 'The Muse', 'Dersu Uzala', 'Dangerous Minds', 'Bride and Prejudice', 'Eat Drink Man Woman', 'Animal Crackers', 'Sense and Sensibility', \"A Hard Day's Night: Collector's Series\", 'Comedian', 'Another Day in Paradise', 'Fallen', 'Hercules', 'The Pagemaster', 'My Favorite Wife', 'Fahrenheit 451', 'I Capture the Castle', 'Blankman', 'Love in the Afternoon', 'I Spy', 'A Streetcar Named Desire', 'The Tick: The Entire Series', 'Unprecedented: The 2000 Presidential Election', 'Our Lady of the Assassins', 'Yi Yi', 'The Mummy', 'The Trip', 'Operation Pacific', 'The Door in the Floor', 'Meet John Doe', 'The Cowboys', 'The Shadow', 'Children of the Corn', 'Yojimbo', 'Blow Dry', 'All the Right Moves', '13 Ghosts', 'The Simpsons: Season 1', 'Cloak & Dagger', 'The Snapper', 'Silver Bullet', 'Rising Sun', 'Hard Boiled', 'Disclosure', 'Outrageous Fortune', 'The Party', 'For Keeps', 'Uptown Girls', 'Aimee and Jaguar', 'Annie: Special Anniversary Edition', 'The Duellists', 'Play it Again', \"King's Ransom\", 'Superman: The Movie', 'Ringu', 'Coach Carter', 'The Postman Always Rings Twice', 'Tape', 'Hysterical Blindness', 'Monkey Trouble', 'The Land Before Time VII: Stone of Cold Fire', 'Thin Line Between Love & Hate', 'Nicholas Nickleby', 'Harlem Nights', 'The Battle of Algiers', 'Dr. T & the Women', 'Training Day', 'Jane Eyre', 'Krull', 'Secondhand Lions', 'Cries and Whispers', 'Runaway', 'Quest for Fire', 'Dragon: The Bruce Lee Story', 'Uncovered: The Whole Truth About the Iraq War', 'Mutiny on the Bounty', 'Impromptu', 'Romeo is Bleeding', 'Empire Falls', 'Freddy vs. Jason', 'To Gillian on her 37th Birthday', 'Polyester', 'Fried Green Tomatoes', 'The Wedding Planner', 'For Your Eyes Only', 'Valentine', 'In Too Deep', '2010: The Year We Make Contact', \"Krippendorf's Tribe\", 'Walking with Dinosaurs', 'The Sandlot', 'Repo Man', \"The Devil's Backbone\", 'The Education of Little Tree', 'A Beautiful Mind', 'Beloved', 'Teaching Mrs. Tingle', 'True Colors', \"National Lampoon's Vacation\", 'The Twilight Zone: Vol. 15', 'Zorro', 'Fire in the Sky', 'Frenzy', 'Man on Fire', 'Seems Like Old Times', 'Little House on the Prairie: Season 6', 'The Ghost and Mrs. Muir', \"Summer of '42\", 'Crooklyn', 'Ali G Indahouse', 'The Pope of Greenwich Village', 'Threesome', 'Brassed Off', 'The Story of O', 'Better Off Dead', 'The Best of Friends: Vol. 4', \"Dead Men Don't Wear Plaid\", 'The Closet', 'Ghosts of the Abyss', 'Dr. Dolittle 2', 'The Great Gatsby', 'At Close Range', 'Red Dwarf: Series 3', \"Blind Spot: Hitler's Secretary\", \"Look Who's Talking Too\", 'The Twilight Zone: Vol. 19', 'Ararat', 'Children of the Corn 4: The Gathering', 'Strange Brew', 'Agnes Browne', 'Hellraiser V: Inferno', 'Scooby-Doo Meets Batman', 'Return of the Dragon', 'Thirteen', 'S.W.A.T.', 'Presumed Innocent', 'The Professional', 'He Got Game', 'Wolf', 'Stargate SG-1: Season 7', 'Funny Lady', 'Leprechaun', 'Normal', 'Kurt & Courtney', 'The Piano', 'Marathon Man', 'The Program', 'Food of Love', 'Walking Tall', 'Live From Baghdad', 'Bringing Out the Dead', 'Charade', '1984', 'Passion Fish', 'Hook', 'The Limey', 'The O.C.: Season 1', 'Sordid Lives', 'My Dinner with Andre', 'No Way Out', 'The Recruit', 'Ride with the Devil', 'Wallace & Gromit in Three Amazing Adventures', 'Stargate SG-1: Season 2', 'Geronimo: An American Legend', 'Belly of the Beast', 'Midnight Cowboy', 'Three Musketeers', 'Bend It Like Beckham', 'Voices of Iraq', 'Six Feet Under: Season 4', 'Man on the Train', 'Porn Star: The Legend of Ron Jeremy', 'Beyond Borders', 'Alias: Season 1', 'Superstar', 'The Boxer', 'The Hunchback of Notre Dame', \"National Lampoon's Van Wilder\", 'The Twilight Zone: Vol. 42', 'Amazon Women on the Moon', 'Casper', 'The Trouble With Harry', 'Monkeybone', 'Radio Flyer', 'Rose Red', \"Mo' Money\", 'Sleepless in Seattle', 'Nick of Time', 'The Women', 'Black Adder', 'Persuasion', 'Rocky V', 'American Wedding', 'Poltergeist', 'Nine Months', \"Stephen King's It!\", 'Joy Ride', 'Shoot to Kill', 'Life as a House', 'Damn the Defiant', 'The Third Man', 'Fantasia 2000', 'Poison Ivy 2', 'Dungeons & Dragons', 'Tae Guk Gi: The Brotherhood of War', 'Superbabies: Baby Geniuses 2', 'Get Real', 'The American President', 'Nausicaa of the Valley of the Wind', \"Aliens: Collector's Edition\", 'The Shop Around the Corner', 'Mean Creek', 'The Serpent and the Rainbow', 'Trapped', 'The Fortune Cookie', 'Casino: 10th Anniversary Edition', 'The Dead Zone', 'Nine to Five', 'The Twilight Zone: Vol. 37', 'Talk Radio', 'Two Girls and a Guy', 'Grumpy Old Men', 'SpongeBob SquarePants: Season 2', 'The Bad News Bears', 'The King of Queens: Season 2', 'Orgazmo', 'The Brady Bunch Movie', 'Friday the 13th: Part 3', 'Defending Your Life', 'Absolute Power', 'Concert for George', 'Lonesome Dove', 'Sphere', 'A Lesson Before Dying', 'Bottle Rocket', 'Ever After: A Cinderella Story', 'The Three Musketeers', \"Outfoxed: Rupert Murdoch's War on Journalism\", 'Modern Times', 'Clash of the Titans', 'The Life Aquatic with Steve Zissou', 'Waking Up in Reno', 'Henry V', 'Married... with Children: The Most Outrageous Episodes: Vol. 2', 'Young Black Stallion', 'Amarcord', 'Cowboy Bebop Remix', 'The Warriors', 'Beverly Hills Cop', 'Bob Roberts', 'Sixteen Candles', 'Murder on the Orient Express', 'The Lord of the Rings', 'Into the Woods', 'Switch', 'First Kid', 'All Creatures Great and Small: Series 1', 'Trainspotting', 'A Dirty Shame', 'Behind the Planet of the Apes', 'The Best Little Whorehouse in Texas', 'Earthsea', 'Born Free', 'Psycho', 'The Rage: Carrie 2', 'MASH: Season 7', 'Lethal Weapon', 'Die Hard 2: Die Harder', 'An Evening With Kevin Smith', \"Alien: Resurrection: Collector's Edition\", 'The Twilight Samurai', 'U.S. Marshals', 'Dance with Me', 'Northfork', 'Species II', 'Le Cercle Rouge', \"Rosemary's Baby\", 'Alex and Emma', 'Farinelli', 'Tin Men', \"The Caveman's Valentine\", 'Beverly Hills Cop III', 'Casualties of War', 'Gordy', 'Samurai Trilogy 3: Duel at Ganryu Island', 'I Want to Live!', 'Death Wish', 'Crazy/Beautiful', 'The Twilight Zone: Vol. 39', 'Shall We Dance?', 'Evolution', 'Three to Tango', 'Eternal Sunshine of the Spotless Mind', 'Sirens', 'Annie', 'Friends: Season 2', 'The Ghost and Mr. Chicken / The Reluctant Astronaut: Double Feature', 'I Love Lucy: Season 4', \"Captain Corelli's Mandolin\", 'The Osbournes: Season 1 (Uncensored)', 'Regarding Henry', \"Cheech & Chong's Up in Smoke\", 'Star Trek: The Motion Picture', 'Pirates of the Caribbean: The Curse of the Black Pearl', 'The Comancheros', 'Calle 54', \"Pee-Wee's Playhouse: Vol. 1\", 'Urban Cowboy', 'Eye of the Needle', 'The Amityville Horror', 'Gilmore Girls: Season 3', 'The Story of Us', 'Cirque du Soleil: Dralion', 'Splendor in the Grass', '50 First Dates', 'Beautiful Creatures', 'The Caine Mutiny', 'Under Siege 2: Dark Territory', 'Gentlemen Prefer Blondes', 'Il Postino', 'Hollow Man', 'Here on Earth', 'Final Fantasy: The Spirits Within', 'The L Word: Season 2', 'Saving Face', 'Four Weddings and a Funeral', 'Under Siege', 'The Talented Mr. Ripley', 'The Importance of Being Earnest', 'Talk to Her', 'The Magdalene Sisters', 'Samurai Champloo', 'Head in the Clouds', 'Fright Night', 'Star Trek: The Next Generation: Season 5', 'Shane', 'The Blind Swordman: Zatoichi', 'Omen III: The Final Conflict', 'Tightrope', 'Buffy the Vampire Slayer: Season 6', 'K-9', 'This Is My Father', 'Half Past Dead', 'Holiday in the Sun', 'Liar Liar', 'The Simpsons: Season 6', 'Sunshine', 'Kickboxer', 'Grease 2', 'The Twilight Zone: Vol. 33', 'Identity', 'Air Bud: World Pup', 'Firefly', 'Being John Malkovich', 'Rudy', 'The Twilight Zone: Vol. 41', 'Citizen X', 'The Enforcer', 'Nothing to Lose', 'Not Another Teen Movie', 'Excess Baggage', 'The Color of Money', 'For the Boys', 'VeggieTales: Dave and the Giant Pickle', \"Buffalo '66\", 'What Women Want', 'Free Willy', 'Six Degrees of Separation', 'CSI: Season 1', 'Mystery Men', \"Rory O'Shea Was Here\", 'Fly Away Home', 'Brother Bear (Theatrical Widescreen Version)', 'The Simpsons: Season 3', 'BASEketball', 'The Ghost and the Darkness', 'VeggieTales: Esther', 'Extreme Measures', 'Lock', 'A Better Tomorrow II', 'All the Pretty Horses', 'Bad Boys', 'Eddie and the Cruisers', 'The Hurricane', 'The Looney Tunes Golden Collection: Vol. 2', 'Ricochet', 'Collateral Damage', 'On Golden Pond', 'The Secret Garden', 'The Legend 2', 'Buffalo Soldiers', 'Black Adder Back & Forth', 'VeggieTales: The Ballad of Little Joe', 'Undertow', 'The Rookie', \"Bram Stoker's Dracula\", 'A Guy Thing', 'Sunshine State', 'Biggie & Tupac', 'The Toxic Avenger', 'People I Know', 'Spice World', 'Teen Wolf / Teen Wolf Too (Double Feature)', 'Unforgettable', 'The Lair of the White Worm', 'Aladdin: Platinum Edition', 'Little House on the Prairie: Season 2', 'Clockers', 'Great Balls of Fire!', 'The Song of Bernadette', 'Invasion of the Body Snatchers', 'Breathless', 'The Looney Tunes Golden Collection: Vol. 1', 'The Laramie Project', 'Control Room', 'Bent', 'Paper Moon', \"Father's Little Dividend\", 'Double Team', 'The Hole', 'An American Rhapsody', 'Joe Versus the Volcano', 'Super Size Me', 'Batman: The Animated Series: Tales of the Dark Knight', 'The Omen', 'The Scent of Green Papaya', 'Youngblood', 'The Adventures of Rocky and Bullwinkle', \"Singin' in the Rain\", 'White', 'Just Visiting', 'The Other Side of Heaven', 'To Catch a Thief', 'The Bourne Supremacy', 'Fletch Lives', 'Scream 3', 'Giant', 'Not Without My Daughter', 'The Queens of Comedy', 'Center Stage', 'Pumpkin', 'Man of the House', 'The Cutting Edge', 'Along Came Polly', 'The Prophecy 2', 'Scream', 'Home Alone 2: Lost in New York', 'MI-5: Vol. 2', 'My Man Godfrey', 'Robin and Marian', 'The Life & Death of Peter Sellers', 'Sink the Bismarck', 'Primer', 'Small Time Crooks', \"Alien: Collector's Edition\", 'Critters', 'Little House on the Prairie: Season 3', 'Smallville: Season 1', 'Like Water for Chocolate', 'Prime Suspect 1', 'Lord of the Rings: The Fellowship of the Ring', 'A Fistful of Dollars', 'A Cinderella Story', 'Cujo', 'Planes', 'Trekkies', 'This Is Spinal Tap', 'Town & Country', \"Wayne's World\", 'V: The Complete TV Series', 'Jason Goes to Hell', 'The Thomas Crown Affair', 'My Girl 2', 'Players Club', 'Exit Wounds', 'The Glass Menagerie', \"America's Sweethearts\", 'Birdman of Alcatraz', 'Trees Lounge', \"Things to Do in Denver When You're Dead\", 'A Love Song for Bobby Long', 'Punchline', 'Matilda: Special Edition', \"Sullivan's Travels\", 'Quicksand', 'Arachnophobia', 'Futurama: Vol. 1', 'The Brothers McMullen', 'The Twilight Zone: Vol. 3', 'Gilmore Girls: Season 1', 'Trigun', 'The Rocky Horror Picture Show', 'Irreversible', 'Mystery Science Theater 3000: The Wild World of Batwoman', 'Stargate SG-1: Season 3', 'Stargate SG-1: Season 8', 'The Sandlot 2', 'Abandon', 'A Walk in the Clouds', 'Y Tu Mama Tambien', 'Freaky Friday', 'Absolutely Fabulous: Series 2', 'Newsies', \"Look Who's Talking\", 'The Vanishing', 'Black Orpheus', 'Best of The Muppet Show: Peter Sellers / John Cleese / Dudley Moore', 'Everybody Loves Raymond: Season 1', \"Don't Say a Word\", 'Northern Exposure: Season 1', 'Ghost Ship', 'Runaway Train', 'Roswell: Season 2', 'The Spanish Prisoner', 'Carolina', 'Dragon Ball Z: Super Android 13', 'Justice League: Justice on Trial', 'Grateful Dawg', 'When Harry Met Sally', 'Frances', 'The Wash', 'Send Me No Flowers', 'Spy Kids 2: The Island of Lost Dreams', \"The Emperor's New Groove\", 'The Missing', 'Marty', 'How High', 'Candyman 3: Day of the Dead', 'Dirty Work', 'The Hitcher', 'The Incredibly True Adventure of 2 Girls in Love', 'The Golden Girls: Season 1', 'Tank Girl', 'Uprising', 'From Hell', 'Seven Brides for Seven Brothers: 50th Anniversary Edition', 'Born Yesterday', 'The Pianist', 'The Big Tease', 'Naked Gun 2 1/2: The Smell of Fear', 'The Longest Yard', 'Back to School', 'The Saddest Music in the World', 'Cirque du Soleil: Varekai', 'Top Secret!', 'Friday After Next', \"Pink Floyd: Live at Pompeii: Director's Cut\", \"Dr. Seuss' The Cat in the Hat\", 'Dark City', 'Braveheart', 'Hocus Pocus', 'The Adventures of Elmo in Grouchland', 'The X-Files: Season 9', 'Imitation of Life: Double Feature (1934', 'The Computer Wore Tennis Shoes', 'Serendipity', 'Pride and Prejudice', 'Muppets From Space', 'Beauty Shop', 'Bad Education', 'D.A.R.Y.L.', 'Judgment Day', 'Indiscreet', 'Blue Hawaii', 'The Mark of Zorro', 'The Hustler', 'Falling Down', 'The Three Stooges: Nutty but Nice', 'Babylon 5: Season 4', 'The Silence of the Lambs', 'Going My Way / Holiday Inn', 'Message in a Bottle', 'Maid to Order', 'Captain Pantoja and the Special Services', 'Jeff Foxworthy: Totally Committed', 'Joe Kidd', 'Elf', 'Addicted to Love', 'The Wind and the Lion', 'The Accidental Tourist', 'Fast', 'Sleeping Beauty: Special Edition', 'Gremlins 2: The New Batch', 'Riding Giants', 'Two Mules for Sister Sara', 'Croupier', 'Richie Rich', 'Spider-Man: The New Animated Series: Season 1', 'Finding Neverland', 'The Last Seduction', 'Baby Boom', 'The Big Red One: Special Edition', 'Heathers', 'Everybody Loves Raymond: Season 3', 'The Best of Friends: Season 1', 'Existenz', 'Friends: Season 6', 'Hoop Dreams', '10', 'Polish Wedding', 'Moonstruck', 'My Favorite Year', 'The Commitments', 'The Ladykillers', 'The Seventh Seal', 'Cronos', 'American Psycho 2', 'Yu-Gi-Oh!: The Movie', 'The Desert Fox', 'Saturday Night Live: The Best of Eddie Murphy', 'Man Bites Dog', 'About Adam', 'The Thing From Another World', 'The Rundown', 'The Three Stooges: Merry Mavericks', 'As Time Goes By: Series 1 and 2', 'Hellfighters', 'Westworld', 'The Final Cut', 'Cocoon', 'House of the Dead', 'Upstairs', 'The Mists of Avalon', 'Cousins', 'Lord of Illusions', 'The Simpsons: Treehouse of Horror', 'The Fabulous Baker Boys', \"I'm Not Scared\", 'Escape from Alcatraz', 'The Way We Were', 'Turbulence', 'The Best of Friends: Season 2', 'The Lion King: Special Edition', \"Murphy's Romance\", 'Rollerball', 'Little Nicky', 'The Road to Wellville', 'Red Sonja', 'Barbarella', 'Birdy', 'Three Men and a Little Lady', 'Damien: Omen II', 'Ghost', \"Dante's Peak\", 'Rififi', 'Titanic', 'Starman', 'Frankie and Johnny', 'Blade: Trinity', 'The Twilight Zone: Vol. 25', 'The English Patient', 'Monty Python: The Life of Python', 'Napoleon Dynamite', 'Doctor Zhivago', 'The Hunger', 'The Man Who Cried', 'Scary Movie 2', 'Dirty Rotten Scoundrels', 'Evil Dead 2: Dead by Dawn', 'Together', 'Stealing Harvard', 'Batman Beyond: Return of the Joker', 'Private Parts', 'King of the Hill: Season 3', 'Heaven & Earth', 'Double Impact', 'Around the World in 80 Days', 'The Addams Family', 'The Flying Tigers', 'All I Wanna Do', 'Jack Frost', \"George Carlin: George's Best Stuff\", 'Children of a Lesser God', 'Xena: Warrior Princess: Series Finale', 'Guarding Tess', 'Nosferatu: Original Version', 'All Quiet on the Western Front', 'A Nightmare on Elm Street 3: Dream Warriors', 'Bringing Up Baby', 'Dinotopia', 'Plump Fiction', 'The Princess Diaries (Fullscreen)', 'Like It Is', 'The Opposite of Sex', 'Daredevil', 'Swimming Pool', 'Aspen Extreme', 'The Grifters', 'Dr. Seuss: Green Eggs and Ham and Other Favorites', \"Muriel's Wedding\", 'The Blob', 'The Longest Day', 'Half Baked', 'Simone', 'Cry Freedom', 'Sideways', 'Flight of the Navigator', 'The Godfather', 'Action Jackson', 'Burnt by the Sun', 'The Pledge', 'All of Me', 'Original Sin', 'The Substitute/The Substitute 3', 'Mighty Quinn', 'The Maltese Falcon', 'About a Boy', 'In Dreams', \"Scooby-Doo's Original Mysteries\", 'Chain Reaction', 'Bananas', 'The Village', 'The Day of the Jackal', 'Honey', 'George Carlin: Complaints and Grievances', 'Reindeer Games', 'The Ice Storm', 'The Parent Trap', 'The Family Man', 'The Little Princess', 'Whale Rider', 'The Vikings', 'Strange Days', '28 Days Later', 'Where the Red Fern Grows', 'Saved by the Bell: Season 1', 'Once Bitten', 'The Apple Dumpling Gang Rides Again', 'Exodus', 'Not One Less', 'The Dead Zone: Season 2', 'High Art', 'Shadow Magic', 'Pocahontas', 'Masters of the Universe', 'Sister Act 2: Back in the Habit', 'Thunderheart', 'Cinderella II', 'Where Eagles Dare', 'Men in Black II', 'Forever Young', 'The Mothman Prophecies', 'The Stand', 'Tampopo', 'Kicking & Screaming', \"Family Guy: Freakin' Sweet Collection\", 'Spirited Away', 'State of Grace', 'The Man Who Knew Too Much', 'Lost: Season 1', '10 Things I Hate About You', 'Spy Kids', 'The Night of the Hunter', 'Batman Beyond: The Movie', 'The Man Without a Face', 'Narrow Margin', 'Ravenous', 'The Twilight Zone: Vol. 16', 'Time Bandits', 'National Geographic: Beyond the Movie: The Lord of the Rings', 'Batman: Mask of the Phantasm', 'Vampires', 'Drunken Master', 'Freddy Got Fingered', '24 Hour Party People', 'U2: Go Home: Live From Slane Castle', 'Hard Eight', 'Lilies of the Field', 'Jungle Fever', 'Coupling: Season 1', 'City by the Sea', 'Star Trek: The Next Generation: Season 6', 'Replicant', 'Halloween II', 'Twin Dragons', 'Undercover Blues', '9 1/2 Weeks', 'Beaches', 'History of the World: Part 1', 'Beautiful Thing', 'The Odd Couple', \"Pete's Dragon\", 'Gun Shy', 'Cowboys & Angels', 'Earth Girls Are Easy', 'Meet the Browns', 'Starship Troopers 2: Hero of the Federation', 'Scooby-Doo and the Monster of Mexico', '200 Cigarettes', 'Cop and a Half', '2 Fast 2 Furious', 'Cradle Will Rock', 'How Green Was My Valley', 'Exit to Eden', 'Abbott & Costello Meet the Mummy', 'Jason and the Argonauts', 'My Neighbor Totoro', 'Elvira', 'Walkabout', \"The Wizard of Oz: Collector's Edition\", 'From the Earth to the Moon: The Signature Edition', 'Lethal Weapon 3', 'Man on the Moon', 'Chocolat', 'Beauty and the Beast', 'Death Becomes Her', 'Daughter from Danang: American Experience', 'The Last Samurai', '25th Hour', 'Bad Boys II', 'Inspector Gadget 2', 'Highway', 'Who Framed Roger Rabbit?: Special Edition', \"Von Ryan's Express\", 'War Games', 'Black and White', 'House of Cards Trilogy II: To Play the King', 'Farscape: Season 2', 'Encino Man', 'My Science Project', 'Hackers', 'Goldfinger', \"Scooby-Doo's Spookiest Tales\", 'Good Advice', 'The Impostors', 'The Fighting Seabees', \"Ripley's Game\", 'Flowers in the Attic', 'Saw', 'The Ballad of Jack and Rose', 'Commando', 'The Big Blue', 'The Seventh Sign', 'So I Married an Axe Murderer', 'Elizabeth', \"Spencer's Mountain\", 'The Green Berets', 'Dracula', 'Notorious', 'Boys and Girls', 'About Schmidt', 'Cecil B. Demented', 'Shakes the Clown', 'Used Cars', '18 Again', 'Playing God', 'Wonderfalls: The Complete Series', 'Saboteur', 'Good Guys Wear Black', 'In Living Color: Season 2', 'Flatliners', 'The Dangerous Lives of Altar Boys', 'Juice', 'The Sting', 'Rooster Cogburn', 'Southern Comfort', 'Van Helsing: The London Assignment', 'A Home of Our Own', 'Love Potion #9', 'Armed and Dangerous', 'Stargate', 'Fear and Loathing in Las Vegas', 'The Sum of All Fears', 'Music of the Heart', 'Ginger Snaps Back: The Beginning', 'Black Dog', 'Dark Victory', 'Universal Soldier', 'The Toy', 'Tenchi the Movie: Tenchi Muyo! In Love', 'Night and Fog', 'Sugar & Spice', 'Bruce Almighty', 'Superman IV: The Quest for Peace', 'American Pimp', 'Batman Begins', 'Affliction', 'The Motorcycle Diaries', 'Ghost in the Shell', 'The Russians Are Coming', 'Live Flesh', 'Aguirre: The Wrath of God', 'NYPD Blue: Season 2', 'Confessions of a Teenage Drama Queen', 'The People vs. Larry Flynt', 'Surviving Christmas', 'Amores Perros', 'PCU', 'The Others', 'Madeline', 'Garden State', 'I Still Know What You Did Last Summer', \"101 Dalmatians II: Patch's London Adventure\", 'Beverly Hills Ninja', 'The Matrix: Reloaded', 'Le Divorce', 'Without a Trace: Season 1', 'Nip/Tuck: Season 2', 'The Original Latin Kings of Comedy', 'Yellow Submarine', 'End of Days', 'Shrek 2', 'Crocodile Dundee 2', 'The Center of the World', 'Terminator 2: Extreme Edition: Bonus Material', 'The Quiet Man', 'The Horse Soldiers', 'Monk: Season 2', 'Pollyanna', 'Finding Nemo (Widescreen)', 'Friday Night Lights', 'Thief', 'Police Academy: Special Edition', 'One False Move', 'On the Beach', 'Life and Debt', 'Wrongfully Accused', 'One Good Cop', 'Queer as Folk: Season 1', 'Cyborg', 'George Carlin: Carlin at Carnegie', 'Random Hearts', 'Police Academy 5: Assignment - Miami Beach', 'Mortal Kombat: The Movie', 'Alias: Season 4', 'Tales of the City', 'Pretty Baby', 'Signs', 'Torch Song Trilogy', 'House of Cards Trilogy I: House of Cards', 'The Woman in Red', 'Planet of the Apes', 'The Long Walk Home', 'The Big Hit', 'Silver Streak', 'Local Hero', 'Hair', 'Larry the Cable Guy: Git-R-Done', 'A Mighty Wind', 'House of the Spirits', 'Innerspace', 'How To Be A Player', 'Angel: Season 4', 'Dinosaur', 'The Invisible Circus', 'American Psycho', 'The Simpsons: Bart Wars', 'Patch Adams', 'The Flintstones', 'Hidden Agenda', 'The King and I', 'Teenage Mutant Ninja Turtles III', \"Harrison's Flowers\", 'Shanghai Noon', 'The Brothers', 'Law & Order: Special Victims Unit: The First Year', \"She's Having A Baby\", 'Scooby-Doo 2: Monsters Unleashed', 'East/West', 'The Prince of Tides', 'Barbershop', 'I Think I Do', 'Hollywood Shuffle', 'VeggieTales Classics: Rack', 'Mars Attacks!', 'From Dusk Till Dawn 2: Texas Blood Money', 'Salaam Bombay!', 'A Christmas Carol', 'The Kids in the Hall: Season 1', 'City of Ghosts', 'Walking and Talking', 'The Blues Brothers: Extended Cut', 'Below', 'The Mirror Has Two Faces', 'Jurassic Park III', 'The Tuskegee Airmen', 'Life', 'The Full Monty', 'Morvern Callar', 'Inu-Yasha', 'Velvet Goldmine', 'Conan the Barbarian', 'Battleship Potemkin', 'Kind Hearts and Coronets', 'Gerry', \"Footloose: Special Collector's Edition\", 'Rat Race', 'Sleepy Hollow', 'The Passion of the Christ', 'The Sleeping Dictionary', 'Swimfan', 'Bound', \"April Fool's Day\", 'On the Line', 'Dial M for Murder', 'The Truth About Charlie / Charade', 'Police Academy 2: Their First Assignment', 'Air Bud Spikes Back', 'Code of Silence', 'Knight Rider: Season 1', 'An Officer and a Gentleman', 'The Sixth Sense', 'Bride of Chucky', 'In Good Company', 'While You Were Sleeping', 'Owning Mahowny', 'Shadow of the Vampire', 'The Scorpion King', 'Bowling for Columbine', 'The Last American Virgin', 'Woman on Top', 'Curb Your Enthusiasm: Season 3', 'Fever Pitch', 'Coffee and Cigarettes', 'Road to Perdition', 'Mr. Show: Season 2', 'Network', 'Soul Food: Season 1', \"Porky's\", 'To End All Wars', 'Disturbing Behavior', 'Tart', 'Rookie of the Year', 'Farscape: The Peacekeeper Wars', 'Dawn of the Dead', 'The Return of the Living Dead', 'Nobody Knows', 'A Man Apart', 'Get Your Stuff', 'Army of Darkness', 'The Mask: Special Edition', 'Party Monster: The Shockumentary', 'A Nightmare on Elm Street', 'In Living Color: Season 3', 'Boy Meets World: Season 1', \"MTV: Punk'd: Season 2\", 'Blame It on Rio', 'Titan A.E.', 'Against the Ropes', 'The West Wing: Season 3', 'Undisputed', 'The Italian Job', 'The Two Jakes', 'The Last Supper', 'Up at the Villa', 'Pelle the Conqueror', 'To Have and Have Not', 'Me Myself I', 'Escaflowne: The Movie', 'The Big One', 'Love Actually', 'Black Mask', 'The War Room', 'Ordinary People', 'House of Wax / The Mystery of the Wax Museum', 'Wonder Boys', 'Ned Kelly', 'Club Dread', 'Ju-on: The Grudge', 'Farewell My Concubine']\n"
     ]
    }
   ],
   "source": [
    "# Lista de todos os filmes disponíveis\n",
    "list(filmes['Name'].unique())"
   ]
  },
  {
   "cell_type": "code",
   "execution_count": 25,
   "id": "c2f11c60",
   "metadata": {},
   "outputs": [
    {
     "name": "stdout",
     "output_type": "stream",
     "text": [
      "Filme escolhido: \n"
     ]
    },
    {
     "data": {
      "text/html": [
       "<div>\n",
       "<style scoped>\n",
       "    .dataframe tbody tr th:only-of-type {\n",
       "        vertical-align: middle;\n",
       "    }\n",
       "\n",
       "    .dataframe tbody tr th {\n",
       "        vertical-align: top;\n",
       "    }\n",
       "\n",
       "    .dataframe thead th {\n",
       "        text-align: right;\n",
       "    }\n",
       "</style>\n",
       "<table border=\"1\" class=\"dataframe\">\n",
       "  <thead>\n",
       "    <tr style=\"text-align: right;\">\n",
       "      <th></th>\n",
       "      <th>Movie_ID</th>\n",
       "      <th>Year</th>\n",
       "      <th>Name</th>\n",
       "      <th>anos_80</th>\n",
       "      <th>anos_90</th>\n",
       "      <th>mais_antigo</th>\n",
       "      <th>notas_recebidas</th>\n",
       "      <th>nota_media</th>\n",
       "      <th>coeficiente_popularidade</th>\n",
       "    </tr>\n",
       "  </thead>\n",
       "  <tbody>\n",
       "    <tr>\n",
       "      <th>32</th>\n",
       "      <td>118</td>\n",
       "      <td>1985</td>\n",
       "      <td>Rambo: First Blood Part II</td>\n",
       "      <td>1</td>\n",
       "      <td>0</td>\n",
       "      <td>0</td>\n",
       "      <td>17728</td>\n",
       "      <td>3.423342</td>\n",
       "      <td>0.50083</td>\n",
       "    </tr>\n",
       "  </tbody>\n",
       "</table>\n",
       "</div>"
      ],
      "text/plain": [
       "    Movie_ID  Year                        Name  anos_80  anos_90  mais_antigo  \\\n",
       "32       118  1985  Rambo: First Blood Part II        1        0            0   \n",
       "\n",
       "    notas_recebidas  nota_media  coeficiente_popularidade  \n",
       "32            17728    3.423342                   0.50083  "
      ]
     },
     "metadata": {},
     "output_type": "display_data"
    },
    {
     "name": "stdout",
     "output_type": "stream",
     "text": [
      "\n",
      "\n",
      "Recomendações com base no filme escolhido: (ordenado por distância)\n"
     ]
    },
    {
     "data": {
      "text/html": [
       "<div>\n",
       "<style scoped>\n",
       "    .dataframe tbody tr th:only-of-type {\n",
       "        vertical-align: middle;\n",
       "    }\n",
       "\n",
       "    .dataframe tbody tr th {\n",
       "        vertical-align: top;\n",
       "    }\n",
       "\n",
       "    .dataframe thead th {\n",
       "        text-align: right;\n",
       "    }\n",
       "</style>\n",
       "<table border=\"1\" class=\"dataframe\">\n",
       "  <thead>\n",
       "    <tr style=\"text-align: right;\">\n",
       "      <th></th>\n",
       "      <th>Movie_ID</th>\n",
       "      <th>Year</th>\n",
       "      <th>Name</th>\n",
       "      <th>anos_80</th>\n",
       "      <th>anos_90</th>\n",
       "      <th>mais_antigo</th>\n",
       "      <th>notas_recebidas</th>\n",
       "      <th>nota_media</th>\n",
       "      <th>coeficiente_popularidade</th>\n",
       "      <th>dist</th>\n",
       "    </tr>\n",
       "  </thead>\n",
       "  <tbody>\n",
       "    <tr>\n",
       "      <th>32</th>\n",
       "      <td>118</td>\n",
       "      <td>1985</td>\n",
       "      <td>Rambo: First Blood Part II</td>\n",
       "      <td>1</td>\n",
       "      <td>0</td>\n",
       "      <td>0</td>\n",
       "      <td>17728</td>\n",
       "      <td>3.423342</td>\n",
       "      <td>0.500830</td>\n",
       "      <td>0.000000</td>\n",
       "    </tr>\n",
       "    <tr>\n",
       "      <th>832</th>\n",
       "      <td>2771</td>\n",
       "      <td>1984</td>\n",
       "      <td>Top Secret!</td>\n",
       "      <td>1</td>\n",
       "      <td>0</td>\n",
       "      <td>0</td>\n",
       "      <td>12348</td>\n",
       "      <td>3.551668</td>\n",
       "      <td>0.498952</td>\n",
       "      <td>0.001878</td>\n",
       "    </tr>\n",
       "    <tr>\n",
       "      <th>500</th>\n",
       "      <td>1646</td>\n",
       "      <td>1983</td>\n",
       "      <td>The Dead Zone</td>\n",
       "      <td>1</td>\n",
       "      <td>0</td>\n",
       "      <td>0</td>\n",
       "      <td>8691</td>\n",
       "      <td>3.643539</td>\n",
       "      <td>0.498273</td>\n",
       "      <td>0.002557</td>\n",
       "    </tr>\n",
       "    <tr>\n",
       "      <th>236</th>\n",
       "      <td>730</td>\n",
       "      <td>1988</td>\n",
       "      <td>Bagdad Cafe</td>\n",
       "      <td>1</td>\n",
       "      <td>0</td>\n",
       "      <td>0</td>\n",
       "      <td>3573</td>\n",
       "      <td>3.819479</td>\n",
       "      <td>0.503413</td>\n",
       "      <td>0.002583</td>\n",
       "    </tr>\n",
       "    <tr>\n",
       "      <th>141</th>\n",
       "      <td>436</td>\n",
       "      <td>1985</td>\n",
       "      <td>Girls Just Want to Have Fun</td>\n",
       "      <td>1</td>\n",
       "      <td>0</td>\n",
       "      <td>0</td>\n",
       "      <td>3122</td>\n",
       "      <td>3.831839</td>\n",
       "      <td>0.503462</td>\n",
       "      <td>0.002632</td>\n",
       "    </tr>\n",
       "  </tbody>\n",
       "</table>\n",
       "</div>"
      ],
      "text/plain": [
       "     Movie_ID  Year                         Name  anos_80  anos_90  \\\n",
       "32        118  1985   Rambo: First Blood Part II        1        0   \n",
       "832      2771  1984                  Top Secret!        1        0   \n",
       "500      1646  1983                The Dead Zone        1        0   \n",
       "236       730  1988                  Bagdad Cafe        1        0   \n",
       "141       436  1985  Girls Just Want to Have Fun        1        0   \n",
       "\n",
       "     mais_antigo  notas_recebidas  nota_media  coeficiente_popularidade  \\\n",
       "32             0            17728    3.423342                  0.500830   \n",
       "832            0            12348    3.551668                  0.498952   \n",
       "500            0             8691    3.643539                  0.498273   \n",
       "236            0             3573    3.819479                  0.503413   \n",
       "141            0             3122    3.831839                  0.503462   \n",
       "\n",
       "         dist  \n",
       "32   0.000000  \n",
       "832  0.001878  \n",
       "500  0.002557  \n",
       "236  0.002583  \n",
       "141  0.002632  "
      ]
     },
     "metadata": {},
     "output_type": "display_data"
    }
   ],
   "source": [
    "# Teste do sistema\n",
    "\n",
    "# Nome do filme escolhido\n",
    "nome_filme = 'Rambo: First Blood Part II'\n",
    "\n",
    "# Seleciona filme com o nome escolhido\n",
    "filme = filmes[filmes['Name'] == nome_filme]\n",
    "\n",
    "print('Filme escolhido: ')\n",
    "display(filme)\n",
    "\n",
    "# Envia as informações do filme escolhido para o modelo buscar os filmes mais próximos matematicamente (distância euclid.)\n",
    "dists, indices_recomendacao = modelo.kneighbors(filme[['mais_antigo', 'anos_80', 'anos_90', 'coeficiente_popularidade']])\n",
    "\n",
    "# Mostra resultados\n",
    "print('\\n\\nRecomendações com base no filme escolhido: (ordenado por distância)')\n",
    "resultados = filmes.iloc[indices_recomendacao[0]].copy()\n",
    "resultados['dist'] = dists[0]\n",
    "display(resultados.sort_values(by='dist', ascending=True))"
   ]
  },
  {
   "cell_type": "markdown",
   "id": "23039528",
   "metadata": {},
   "source": [
    "### Salvando modelo para implementação futura"
   ]
  },
  {
   "cell_type": "code",
   "execution_count": 29,
   "id": "e2b7e1f4",
   "metadata": {},
   "outputs": [],
   "source": [
    "arq = open('../Modelos/modelo-sistema-rec.pk', 'wb')\n",
    "pk.dump(modelo, arq)\n",
    "arq.close()"
   ]
  },
  {
   "cell_type": "code",
   "execution_count": null,
   "id": "754c60c0",
   "metadata": {},
   "outputs": [],
   "source": [
    "filmes.reset_index()"
   ]
  }
 ],
 "metadata": {
  "kernelspec": {
   "display_name": "Python 3",
   "language": "python",
   "name": "python3"
  },
  "language_info": {
   "codemirror_mode": {
    "name": "ipython",
    "version": 3
   },
   "file_extension": ".py",
   "mimetype": "text/x-python",
   "name": "python",
   "nbconvert_exporter": "python",
   "pygments_lexer": "ipython3",
   "version": "3.7.9"
  }
 },
 "nbformat": 4,
 "nbformat_minor": 5
}
