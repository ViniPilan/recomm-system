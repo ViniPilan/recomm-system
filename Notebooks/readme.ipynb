{
 "cells": [
  {
   "cell_type": "markdown",
   "id": "6231b667",
   "metadata": {},
   "source": []
  },
  {
   "cell_type": "markdown",
   "id": "05397160",
   "metadata": {},
   "source": []
  },
  {
   "cell_type": "markdown",
   "id": "1c85bb03",
   "metadata": {},
   "source": []
  },
  {
   "cell_type": "markdown",
   "id": "541d21be",
   "metadata": {},
   "source": []
  },
  {
   "cell_type": "markdown",
   "id": "e25eb24e",
   "metadata": {},
   "source": []
  },
  {
   "cell_type": "markdown",
   "id": "7c2daa5f",
   "metadata": {},
   "source": []
  }
 ],
 "metadata": {
  "kernelspec": {
   "display_name": "Python 3",
   "language": "python",
   "name": "python3"
  },
  "language_info": {
   "codemirror_mode": {
    "name": "ipython",
    "version": 3
   },
   "file_extension": ".py",
   "mimetype": "text/x-python",
   "name": "python",
   "nbconvert_exporter": "python",
   "pygments_lexer": "ipython3",
   "version": "3.7.9"
  }
 },
 "nbformat": 4,
 "nbformat_minor": 5
}
